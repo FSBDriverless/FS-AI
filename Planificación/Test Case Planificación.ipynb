{
 "cells": [
  {
   "cell_type": "code",
   "execution_count": 13,
   "id": "b966563f",
   "metadata": {},
   "outputs": [],
   "source": [
    "# Import curve fitting package from scipy\n",
    "from scipy.optimize import curve_fit\n",
    "import numpy as np\n",
    "import matplotlib.pyplot as plt\n",
    "import math"
   ]
  },
  {
   "cell_type": "code",
   "execution_count": 14,
   "id": "ab32620c",
   "metadata": {},
   "outputs": [],
   "source": [
    "# Function to calculate the exponential with constants a and b\n",
    "def exponential(x, a, b):\n",
    "    return a*np.exp(b*x), -a*np.exp(b*x)"
   ]
  },
  {
   "cell_type": "code",
   "execution_count": 92,
   "id": "6a77015d",
   "metadata": {},
   "outputs": [],
   "source": [
    "def circleConstI (x):\n",
    "    return math.sqrt(625-(x+26.5)**2), -math.sqrt(625-(x+26.5)**2)"
   ]
  },
  {
   "cell_type": "code",
   "execution_count": 93,
   "id": "b0ee8df8",
   "metadata": {},
   "outputs": [],
   "source": [
    "def circleConstE (x):\n",
    "    return math.sqrt(784-(x+26.5)**2), -math.sqrt(784-(x+26.5)**2)"
   ]
  },
  {
   "cell_type": "code",
   "execution_count": 104,
   "id": "40e483dd",
   "metadata": {},
   "outputs": [],
   "source": [
    "def circleConstM (x):\n",
    "    return math.sqrt(702.25-(x+26.5)**2), -math.sqrt(702.25-(x+26.5)**2)"
   ]
  },
  {
   "cell_type": "code",
   "execution_count": 118,
   "id": "8810538c",
   "metadata": {},
   "outputs": [
    {
     "data": {
      "text/plain": [
       "<matplotlib.legend.Legend at 0x26ecf52d608>"
      ]
     },
     "execution_count": 118,
     "metadata": {},
     "output_type": "execute_result"
    },
    {
     "data": {
      "image/png": "[encoded data removed]",
      "text/plain": [
       "<Figure size 720x720 with 1 Axes>"
      ]
     },
     "metadata": {
      "needs_background": "light"
     },
     "output_type": "display_data"
    }
   ],
   "source": [
    "# Generate dummy dataset\n",
    "num = 8\n",
    "x_dummy_I = np.linspace(start=-26.5, stop=-1.5, num=num)\n",
    "x_dummy_I = np.concatenate((x_dummy_I, x_dummy_I[::-1]))\n",
    "\n",
    "num = 8\n",
    "x_dummy_E = np.linspace(start=-26.5, stop=1.5, num=num)\n",
    "x_dummy_E = np.concatenate((x_dummy_E, x_dummy_E[::-1]))\n",
    "\n",
    "num = 8\n",
    "x_dummy_M = np.linspace(start=-26.5, stop=0, num=num)\n",
    "x_dummy_M = np.concatenate((x_dummy_M, x_dummy_M[::-1]))\n",
    "\n",
    "# Calculate y-values based on dummy x-values\n",
    "y_dummy_I = np.zeros([num*2])\n",
    "for i in range(0,num):\n",
    "    y_dummy_I[i], y_dummy_I[num*2-1-i] = circleConstI(x_dummy_I[i])\n",
    "# Add noise from a Gaussian distribution\n",
    "noise = 0.1*np.random.normal(size=y_dummy_I.size)\n",
    "y_dummy_I = y_dummy_I + noise\n",
    "\n",
    "\n",
    "# Calculate y-values based on dummy x-values\n",
    "y_dummy_E= np.zeros([num*2])\n",
    "for i in range(0,num):\n",
    "    y_dummy_E[i], y_dummy_E[num*2-1-i] = circleConstE(x_dummy_E[i])\n",
    "# Add noise from a Gaussian distribution\n",
    "noise = 0.1*np.random.normal(size=y_dummy_E.size)\n",
    "y_dummy_E = y_dummy_E + noise\n",
    "\n",
    "\n",
    "# Calculate y-values based on dummy x-values\n",
    "y_dummy_M= np.zeros([num*2])\n",
    "for i in range(0,num):\n",
    "    y_dummy_M[i], y_dummy_M[num*2-1-i] = circleConstM(x_dummy_M[i])\n",
    "# Add noise from a Gaussian distribution\n",
    "noise = 0.1*np.random.normal(size=y_dummy_M.size)\n",
    "y_dummy_M = y_dummy_M + noise\n",
    "\n",
    "\n",
    "# Plot the noisy exponential data\n",
    "figure = plt.figure(figsize=(10, 10))\n",
    "ax = figure.add_subplot(111)\n",
    "ax.set_xlim([-30,30])\n",
    "ax.set_ylim([-30,30])\n",
    "plt.scatter(x_dummy_I, y_dummy_I, s=20, label='Interior', color='red')\n",
    "plt.scatter(x_dummy_E, y_dummy_E, s=20, label='Exterior', color='blue')\n",
    "plt.scatter(x_dummy_M, y_dummy_M, s=20, label='Centro', color='black')\n",
    "plt.legend()"
   ]
  },
  {
   "cell_type": "code",
   "execution_count": 108,
   "id": "2887c409",
   "metadata": {},
   "outputs": [],
   "source": [
    "def circleHorI (x):\n",
    "    return math.sqrt(20.25-(x+6)**2), -math.sqrt(20.25-(x+6)**2)"
   ]
  },
  {
   "cell_type": "code",
   "execution_count": 109,
   "id": "775e782f",
   "metadata": {},
   "outputs": [],
   "source": [
    "def circleHorE (x):\n",
    "    return math.sqrt(56.25-(x+6)**2), -math.sqrt(56.25-(x+6)**2)"
   ]
  },
  {
   "cell_type": "code",
   "execution_count": 110,
   "id": "c45c7348",
   "metadata": {},
   "outputs": [],
   "source": [
    "def circleHorM (x):\n",
    "    return math.sqrt(36-(x+6)**2), -math.sqrt(36-(x+6)**2)"
   ]
  },
  {
   "cell_type": "code",
   "execution_count": 119,
   "id": "28667b22",
   "metadata": {},
   "outputs": [
    {
     "data": {
      "text/plain": [
       "<matplotlib.legend.Legend at 0x26ecf5bbf88>"
      ]
     },
     "execution_count": 119,
     "metadata": {},
     "output_type": "execute_result"
    },
    {
     "data": {
      "image/png": "[encoded data removed]",
      "text/plain": [
       "<Figure size 720x720 with 1 Axes>"
      ]
     },
     "metadata": {
      "needs_background": "light"
     },
     "output_type": "display_data"
    }
   ],
   "source": [
    "# Generate dummy dataset\n",
    "num = 3\n",
    "x_dummy_I = np.linspace(start=-6, stop=-1.5, num=num)\n",
    "x_dummy_I = np.concatenate((x_dummy_I, x_dummy_I[::-1]))\n",
    "\n",
    "num = 3\n",
    "x_dummy_E = np.linspace(start=-6, stop=1.5, num=num)\n",
    "x_dummy_E = np.concatenate((x_dummy_E, x_dummy_E[::-1]))\n",
    "\n",
    "num = 3\n",
    "x_dummy_M = np.linspace(start=-6, stop=0, num=num)\n",
    "x_dummy_M = np.concatenate((x_dummy_M, x_dummy_M[::-1]))\n",
    "\n",
    "# Calculate y-values based on dummy x-values\n",
    "y_dummy_I = np.zeros([num*2])\n",
    "for i in range(0,num):\n",
    "    y_dummy_I[i], y_dummy_I[num*2-1-i] = circleHorI(x_dummy_I[i])\n",
    "# Add noise from a Gaussian distribution\n",
    "noise = 0.1*np.random.normal(size=y_dummy_I.size)\n",
    "y_dummy_I = y_dummy_I + noise\n",
    "\n",
    "\n",
    "# Calculate y-values based on dummy x-values\n",
    "y_dummy_E= np.zeros([num*2])\n",
    "for i in range(0,num):\n",
    "    y_dummy_E[i], y_dummy_E[num*2-1-i] = circleHorE(x_dummy_E[i])\n",
    "# Add noise from a Gaussian distribution\n",
    "noise = 0.1*np.random.normal(size=y_dummy_E.size)\n",
    "y_dummy_E = y_dummy_E + noise\n",
    "\n",
    "\n",
    "# Calculate y-values based on dummy x-values\n",
    "y_dummy_M= np.zeros([num*2])\n",
    "for i in range(0,num):\n",
    "    y_dummy_M[i], y_dummy_M[num*2-1-i] = circleHorM(x_dummy_M[i])\n",
    "# Add noise from a Gaussian distribution\n",
    "noise = 0.1*np.random.normal(size=y_dummy_M.size)\n",
    "y_dummy_M = y_dummy_M + noise\n",
    "\n",
    "\n",
    "# Plot the noisy exponential data\n",
    "figure = plt.figure(figsize=(10, 10))\n",
    "ax = figure.add_subplot(111)\n",
    "ax.set_xlim([-10,10])\n",
    "ax.set_ylim([-10,10])\n",
    "plt.scatter(x_dummy_I, y_dummy_I, s=20, label='Interior', color='red')\n",
    "plt.scatter(x_dummy_E, y_dummy_E, s=20, label='Exterior', color='blue')\n",
    "plt.scatter(x_dummy_M, y_dummy_M, s=20, label='Centro', color='black')\n",
    "plt.legend()"
   ]
  },
  {
   "cell_type": "code",
   "execution_count": 133,
   "id": "1b95375a",
   "metadata": {},
   "outputs": [],
   "source": [
    "class Triangulacion():\n",
    "\n",
    "    def __init__(self, conos_interiores, conos_exteriores):\n",
    "        self.internalNp = None\n",
    "        self.interpolacion = None\n",
    "        #self.conos_interiores = np.array([[o.point.x, o.point.y] for o in conos_interiores])\n",
    "        #self.conos_exteriores = np.array([[o.point.x, o.point.y] for o in conos_exteriores])\n",
    "\n",
    "        # TODO, ESTO ES PROVISIONAL, Precondición: La lista de conos ya viene ordenada\n",
    "        self.conos_exteriores = self.ordenar_respecto([0, 0], self.conos_exteriores)\n",
    "        self.conos_interiores = self.ordenar_respecto([0, 0], self.conos_interiores)\n",
    "\n",
    "    def ordenar_respecto(self, coche, lista):\n",
    "        return np.array(sorted(lista, key=lambda p: (p[0] - coche[0]) ** 2 + (p[1] - coche[1]) ** 2))\n",
    "\n",
    "    def getEdges(self, triangle, edges, isEven):\n",
    "        # t0 t1\n",
    "        if (isEven[0] + isEven[1] == 1):\n",
    "            edges[triangle[0], triangle[1]] = 1\n",
    "            edges[triangle[1], triangle[0]] = 1\n",
    "        # t0 t2\n",
    "        if (isEven[0] + isEven[2] == 1):\n",
    "            edges[triangle[0], triangle[2]] = 1\n",
    "            edges[triangle[2], triangle[0]] = 1\n",
    "        # t1 t2\n",
    "        if (isEven[1] + isEven[2] == 1):\n",
    "            edges[triangle[1], triangle[2]] = 1\n",
    "            edges[triangle[2], triangle[1]] = 1\n",
    "        return edges\n",
    "\n",
    "    def triangulacion(self):\n",
    "\n",
    "        nci = len(self.conos_interiores)  # Numeros de conos interiores en la lista de conos\n",
    "        col = 2\n",
    "        nce = len(self.conos_exteriores)  # Numeros de conos exteriores en la lista de conos\n",
    "        if (nci > 0 and nce > 0):\n",
    "\n",
    "            maxConosLado = max(nci, nce)\n",
    "            P = np.zeros((2 * maxConosLado, col))\n",
    "\n",
    "            for i in range(0, maxConosLado):\n",
    "                if (i >= nci):  # Solo quedan conos exteriores\n",
    "                    P[i * 2] = self.conos_interiores[nci - 1]\n",
    "                    P[i * 2 + 1] = self.conos_exteriores[i]\n",
    "                elif (i >= nce):  # Solo quedan conos interiores\n",
    "                    P[i * 2] = self.conos_interiores[i]\n",
    "                    P[i * 2 + 1] = self.conos_exteriores[nce - 1]\n",
    "                else:  # Quedan de los 2\n",
    "                    P[i * 2] = self.conos_interiores[i]\n",
    "                    P[i * 2 + 1] = self.conos_exteriores[i]\n",
    "\n",
    "            internal = []\n",
    "            # (12.939980506896973, 6.089759349822998) x\n",
    "            # (3.0638973712921143, -1.9238924980163574) y\n",
    "            xMaxI, yMaxI = self.conos_interiores.max(axis=0)\n",
    "            xMinI, yMinI = self.conos_interiores.min(axis=0)\n",
    "\n",
    "            xMaxE, yMaxE = self.conos_exteriores.max(axis=0)\n",
    "            xMinE, yMinE = self.conos_exteriores.min(axis=0)\n",
    "\n",
    "            xMax, yMax = max(xMaxI, xMaxE), max(yMaxI, yMaxE)\n",
    "            xMin, yMin = min(xMinI, xMinE), min(yMinI, yMinE)\n",
    "\n",
    "            # Posición del eje de dirección (No esta bien)\n",
    "            dirX = 0.0\n",
    "            dirY = 0.0\n",
    "\n",
    "            internal.append(np.array([dirX, dirY]))  # Para despues hacer la trayectoria desde el morro del coche\n",
    "\n",
    "            # edgesMatrix = np.zeros([P.shape[0], P.shape[0]])\n",
    "            edgesMatrix = np.zeros([maxConosLado * 2, maxConosLado * 2])\n",
    "\n",
    "            # Crear triangulacion con constantes\n",
    "            TR = Delaunay(P)\n",
    "\n",
    "            s = TR.simplices\n",
    "            i = 0\n",
    "            while (i < s.shape[0]):\n",
    "\n",
    "                x = s[i]\n",
    "                isEven = x % 2\n",
    "                if ((isEven[0] == 0 and isEven[1] == 0 and isEven[2] == 0) or (\n",
    "                        isEven[0] == 1 and isEven[1] == 1 and isEven[2] == 1)):\n",
    "                    s = np.delete(s, i, 0)\n",
    "                else:\n",
    "                    edgesMatrix = self.getEdges(x, edgesMatrix, isEven)\n",
    "                    i = i + 1\n",
    "\n",
    "            for fila in range(0, P.shape[0]):\n",
    "                for columna in range(0, fila):\n",
    "                    if (edgesMatrix[fila][columna] == 1):  # Es uno interno\n",
    "                        p1 = P[fila]\n",
    "                        p2 = P[columna]\n",
    "\n",
    "                        internal.append(np.array([(p1[0] + p2[0]) / 2, (p1[1] + p2[1]) / 2]))\n",
    "\n",
    "            self.internalNp = np.array(internal)\n",
    "\n",
    "            tck, u = splprep([self.internalNp[:, 0], self.internalNp[:, 1]], k=3, s=32)\n",
    "            u = np.linspace(0, 1, num=50, endpoint=True)\n",
    "            self.interpolacion = splev(u, tck)\n",
    "\n",
    "            return self.internalNp, self.interpolacion, P, s, (xMax, xMin), (yMax, yMin)\n",
    "        else:\n",
    "            return None, None, None, None, None, None\n"
   ]
  },
  {
   "cell_type": "code",
   "execution_count": 132,
   "id": "821a5b39",
   "metadata": {},
   "outputs": [
    {
     "ename": "AttributeError",
     "evalue": "'Triangulacion' object has no attribute 'conos_exteriores'",
     "output_type": "error",
     "traceback": [
      "\u001b[1;31m---------------------------------------------------------------------------\u001b[0m",
      "\u001b[1;31mAttributeError\u001b[0m                            Traceback (most recent call last)",
      "\u001b[1;32m~\\AppData\\Local\\Temp/ipykernel_8996/782684679.py\u001b[0m in \u001b[0;36m<module>\u001b[1;34m\u001b[0m\n\u001b[0;32m      9\u001b[0m \u001b[0mpE\u001b[0m \u001b[1;33m=\u001b[0m \u001b[0mnp\u001b[0m\u001b[1;33m.\u001b[0m\u001b[0mtranspose\u001b[0m\u001b[1;33m(\u001b[0m\u001b[0mpE\u001b[0m\u001b[1;33m)\u001b[0m\u001b[1;33m\u001b[0m\u001b[1;33m\u001b[0m\u001b[0m\n\u001b[0;32m     10\u001b[0m \u001b[1;33m\u001b[0m\u001b[0m\n\u001b[1;32m---> 11\u001b[1;33m \u001b[0mtriangulaciono\u001b[0m \u001b[1;33m=\u001b[0m \u001b[0mTriangulacion\u001b[0m\u001b[1;33m(\u001b[0m\u001b[0mpI\u001b[0m\u001b[1;33m,\u001b[0m \u001b[0mpE\u001b[0m\u001b[1;33m)\u001b[0m\u001b[1;33m\u001b[0m\u001b[1;33m\u001b[0m\u001b[0m\n\u001b[0m",
      "\u001b[1;32m~\\AppData\\Local\\Temp/ipykernel_8996/1163680973.py\u001b[0m in \u001b[0;36m__init__\u001b[1;34m(self, conos_interiores, conos_exteriores)\u001b[0m\n\u001b[0;32m      8\u001b[0m \u001b[1;33m\u001b[0m\u001b[0m\n\u001b[0;32m      9\u001b[0m         \u001b[1;31m# TODO, ESTO ES PROVISIONAL, Precondición: La lista de conos ya viene ordenada\u001b[0m\u001b[1;33m\u001b[0m\u001b[1;33m\u001b[0m\u001b[1;33m\u001b[0m\u001b[0m\n\u001b[1;32m---> 10\u001b[1;33m         \u001b[0mself\u001b[0m\u001b[1;33m.\u001b[0m\u001b[0mconos_exteriores\u001b[0m \u001b[1;33m=\u001b[0m \u001b[0mself\u001b[0m\u001b[1;33m.\u001b[0m\u001b[0mordenar_respecto\u001b[0m\u001b[1;33m(\u001b[0m\u001b[1;33m[\u001b[0m\u001b[1;36m0\u001b[0m\u001b[1;33m,\u001b[0m \u001b[1;36m0\u001b[0m\u001b[1;33m]\u001b[0m\u001b[1;33m,\u001b[0m \u001b[0mself\u001b[0m\u001b[1;33m.\u001b[0m\u001b[0mconos_exteriores\u001b[0m\u001b[1;33m)\u001b[0m\u001b[1;33m\u001b[0m\u001b[1;33m\u001b[0m\u001b[0m\n\u001b[0m\u001b[0;32m     11\u001b[0m         \u001b[0mself\u001b[0m\u001b[1;33m.\u001b[0m\u001b[0mconos_interiores\u001b[0m \u001b[1;33m=\u001b[0m \u001b[0mself\u001b[0m\u001b[1;33m.\u001b[0m\u001b[0mordenar_respecto\u001b[0m\u001b[1;33m(\u001b[0m\u001b[1;33m[\u001b[0m\u001b[1;36m0\u001b[0m\u001b[1;33m,\u001b[0m \u001b[1;36m0\u001b[0m\u001b[1;33m]\u001b[0m\u001b[1;33m,\u001b[0m \u001b[0mself\u001b[0m\u001b[1;33m.\u001b[0m\u001b[0mconos_interiores\u001b[0m\u001b[1;33m)\u001b[0m\u001b[1;33m\u001b[0m\u001b[1;33m\u001b[0m\u001b[0m\n\u001b[0;32m     12\u001b[0m \u001b[1;33m\u001b[0m\u001b[0m\n",
      "\u001b[1;31mAttributeError\u001b[0m: 'Triangulacion' object has no attribute 'conos_exteriores'"
     ]
    }
   ],
   "source": [
    "xI = np.array(x_dummy_I)\n",
    "yI = np.array(y_dummy_I)\n",
    "pI = np.array([xI,yI])\n",
    "pI = np.transpose(pI)\n",
    "\n",
    "xE = np.array(x_dummy_E)\n",
    "yE = np.array(y_dummy_E)\n",
    "pE = np.array([xE,yE])\n",
    "pE = np.transpose(pE)\n",
    "\n",
    "triangulaciono = Triangulacion(pI, pE)\n"
   ]
  },
  {
   "cell_type": "code",
   "execution_count": null,
   "id": "567fffce",
   "metadata": {},
   "outputs": [],
   "source": []
  }
 ],
 "metadata": {
  "kernelspec": {
   "display_name": "Python 3 (ipykernel)",
   "language": "python",
   "name": "python3"
  },
  "language_info": {
   "codemirror_mode": {
    "name": "ipython",
    "version": 3
   },
   "file_extension": ".py",
   "mimetype": "text/x-python",
   "name": "python",
   "nbconvert_exporter": "python",
   "pygments_lexer": "ipython3",
   "version": "3.7.7"
  }
 },
 "nbformat": 4,
 "nbformat_minor": 5
}
